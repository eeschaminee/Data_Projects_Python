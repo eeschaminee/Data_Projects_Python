{
 "cells": [
  {
   "cell_type": "markdown",
   "metadata": {},
   "source": [
    "<h1>Hacker News Stories</h1>\n",
    "\n",
    "<h4>Read and work with JSON, create and use lambda functions</h4>\n",
    "\n",
    "Data from DataQuest, there they mentioned it was downloaded from the Hacker News API.\n",
    "    Data contains data about stories from Hacker News in 2014."
   ]
  },
  {
   "cell_type": "code",
   "execution_count": 3,
   "metadata": {},
   "outputs": [
    {
     "name": "stdout",
     "output_type": "stream",
     "text": [
      "Amount of objects:  35806\n",
      "Type of objects:  <class 'list'>\n",
      "Kyes of the first dict:  dict_keys(['author', 'numComments', 'points', 'url', 'storyText', 'createdAt', 'tags', 'createdAtI', 'title', 'objectId'])\n"
     ]
    }
   ],
   "source": [
    "# Reading the Hacker News JSON file\n",
    "import json\n",
    "\n",
    "file = open(\"hn_2014.json\")\n",
    "hn = json.load(file)\n",
    "\n",
    "print(\"Amount of objects: \", len(hn))\n",
    "print(\"Type of objects: \", type(hn))\n",
    "print(\"Kyes of the first dict: \", hn[0].keys())"
   ]
  },
  {
   "cell_type": "code",
   "execution_count": 7,
   "metadata": {},
   "outputs": [
    {
     "name": "stdout",
     "output_type": "stream",
     "text": [
      "{\n",
      "    \"author\": \"dragongraphics\",\n",
      "    \"createdAt\": \"2014-05-29T08:07:50Z\",\n",
      "    \"createdAtI\": 1401350870,\n",
      "    \"numComments\": 0,\n",
      "    \"objectId\": \"7815238\",\n",
      "    \"points\": 2,\n",
      "    \"storyText\": \"\",\n",
      "    \"tags\": [\n",
      "        \"story\",\n",
      "        \"author_dragongraphics\",\n",
      "        \"story_7815238\"\n",
      "    ],\n",
      "    \"title\": \"Are we getting too Sassy? Weighing up micro-optimisation vs. maintainability\",\n",
      "    \"url\": \"http://ashleynolan.co.uk/blog/are-we-getting-too-sassy\"\n",
      "}\n"
     ]
    }
   ],
   "source": [
    "# Function that dumps the JSON object and prints it\n",
    "def jprint(obj):\n",
    "    # Create a formatted string of the JSON object\n",
    "    text = json.dumps(obj, sort_keys=True, indent=4)\n",
    "    print(text)\n",
    "\n",
    "jprint(hn[0])"
   ]
  },
  {
   "cell_type": "code",
   "execution_count": 10,
   "metadata": {},
   "outputs": [
    {
     "name": "stdout",
     "output_type": "stream",
     "text": [
      "{\n",
      "    \"author\": \"dragongraphics\",\n",
      "    \"createdAt\": \"2014-05-29T08:07:50Z\",\n",
      "    \"numComments\": 0,\n",
      "    \"objectId\": \"7815238\",\n",
      "    \"points\": 2,\n",
      "    \"storyText\": \"\",\n",
      "    \"tags\": [\n",
      "        \"story\",\n",
      "        \"author_dragongraphics\",\n",
      "        \"story_7815238\"\n",
      "    ],\n",
      "    \"title\": \"Are we getting too Sassy? Weighing up micro-optimisation vs. maintainability\",\n",
      "    \"url\": \"http://ashleynolan.co.uk/blog/are-we-getting-too-sassy\"\n",
      "}\n"
     ]
    }
   ],
   "source": [
    "# Delete createdAtI from dictionary\n",
    "def del_key(dict_, key):\n",
    "    # Create a copy so we don't modify the original dict\n",
    "    modified_dict = dict_.copy()\n",
    "    del modified_dict[key]\n",
    "    return modified_dict\n",
    "\n",
    "\n",
    "# For each story in hn delete createdAtI and store in hn_clean\n",
    "hn_clean = [del_key(story, \"createdAtI\") for story in hn]\n",
    "\n",
    "jprint(hn_clean[0])"
   ]
  },
  {
   "cell_type": "code",
   "execution_count": 14,
   "metadata": {},
   "outputs": [
    {
     "name": "stdout",
     "output_type": "stream",
     "text": [
      "[\n",
      "    \"http://ashleynolan.co.uk/blog/are-we-getting-too-sassy\",\n",
      "    \"http://spectrum.ieee.org/automaton/robotics/home-robots/telemba-telepresence-robot\",\n",
      "    \"http://online.wsj.com/articles/apple-to-buy-beats-1401308971\",\n",
      "    \"http://alexsblog.org/2014/05/29/dont-wait-for-inspiration/\",\n",
      "    \"http://techcrunch.com/2014/05/28/hackerone-get-9m-in-series-a-funding-to-build-bug-tracking-bounty-programs/\"\n",
      "]\n"
     ]
    }
   ],
   "source": [
    "# Extract url value from each story in hn_clean\n",
    "urls = [story[\"url\"] for story in hn]\n",
    "\n",
    "jprint(urls[0:5])"
   ]
  },
  {
   "cell_type": "code",
   "execution_count": 16,
   "metadata": {},
   "outputs": [
    {
     "name": "stdout",
     "output_type": "stream",
     "text": [
      "8\n"
     ]
    }
   ],
   "source": [
    "# Collect stories that have more than 1000 points\n",
    "thousand_points = [d for d in hn_clean if d[\"points\"] > 1000]\n",
    "\n",
    "num_thousand_points = len(thousand_points)\n",
    "print(num_thousand_points)"
   ]
  },
  {
   "cell_type": "code",
   "execution_count": 25,
   "metadata": {},
   "outputs": [
    {
     "name": "stdout",
     "output_type": "stream",
     "text": [
      "['2048', 'Today is The Day We Fight Back', 'Wozniak: “Actually, the movie was largely a lie about me”', 'Microsoft Open Sources C# Compiler', 'Elon Musk: To the People of New Jersey']\n"
     ]
    }
   ],
   "source": [
    "# Sort hn_clean by number of points from highest to lowest\n",
    "hn_sorted_points = sorted(hn_clean, key=lambda json_dict: json_dict[\"points\"], reverse=True)\n",
    "\n",
    "# Collect a list of the 5 post titles assigned to the stories with the highest points\n",
    "top_5_titles = [d[\"title\"] for d in hn_sorted_points[:5]]\n",
    "print(top_5_titles)"
   ]
  },
  {
   "cell_type": "code",
   "execution_count": 24,
   "metadata": {},
   "outputs": [
    {
     "name": "stdout",
     "output_type": "stream",
     "text": [
      "{\n",
      "    \"author\": \"platz\",\n",
      "    \"createdAt\": \"2014-04-03T19:02:53Z\",\n",
      "    \"numComments\": 1208,\n",
      "    \"objectId\": \"7525198\",\n",
      "    \"points\": 889,\n",
      "    \"storyText\": null,\n",
      "    \"tags\": [\n",
      "        \"story\",\n",
      "        \"author_platz\",\n",
      "        \"story_7525198\"\n",
      "    ],\n",
      "    \"title\": \"Brendan Eich Steps Down as Mozilla CEO\",\n",
      "    \"url\": \"https://blog.mozilla.org/blog/2014/04/03/brendan-eich-steps-down-as-mozilla-ceo/\"\n",
      "}\n"
     ]
    }
   ],
   "source": [
    "# Get the story with the most comments using a key lambda function\n",
    "most_comments = max(hn_clean, key=lambda json_dict: json_dict[\"numComments\"])\n",
    "\n",
    "jprint(most_comments)"
   ]
  },
  {
   "cell_type": "markdown",
   "metadata": {},
   "source": [
    "<h4>JSON with Pandas</h4>"
   ]
  },
  {
   "cell_type": "code",
   "execution_count": 28,
   "metadata": {},
   "outputs": [
    {
     "name": "stdout",
     "output_type": "stream",
     "text": [
      "           author  numComments  points  \\\n",
      "0  dragongraphics            0       2   \n",
      "1             jcr            0       1   \n",
      "2        callum85            0       1   \n",
      "3          d3v3r0            0       1   \n",
      "4      timmipetit            0       1   \n",
      "\n",
      "                                                 url storyText  \\\n",
      "0  http://ashleynolan.co.uk/blog/are-we-getting-t...             \n",
      "1  http://spectrum.ieee.org/automaton/robotics/ho...             \n",
      "2  http://online.wsj.com/articles/apple-to-buy-be...             \n",
      "3  http://alexsblog.org/2014/05/29/dont-wait-for-...             \n",
      "4  http://techcrunch.com/2014/05/28/hackerone-get...             \n",
      "\n",
      "              createdAt                                           tags  \\\n",
      "0  2014-05-29T08:07:50Z  [story, author_dragongraphics, story_7815238]   \n",
      "1  2014-05-29T08:05:58Z             [story, author_jcr, story_7815234]   \n",
      "2  2014-05-29T08:05:06Z        [story, author_callum85, story_7815230]   \n",
      "3  2014-05-29T08:00:08Z          [story, author_d3v3r0, story_7815222]   \n",
      "4  2014-05-29T07:46:19Z      [story, author_timmipetit, story_7815191]   \n",
      "\n",
      "                                               title objectId  \n",
      "0  Are we getting too Sassy? Weighing up micro-op...  7815238  \n",
      "1  Telemba Turns Your Old Roomba and Tablet Into ...  7815234  \n",
      "2           Apple Agrees to Buy Beats for $3 Billion  7815230  \n",
      "3                         Don’t wait for inspiration  7815222  \n",
      "4  HackerOne Get $9M In Series A Funding To Build...  7815191  \n"
     ]
    }
   ],
   "source": [
    "import pandas as pd\n",
    "\n",
    "hn_df = pd.DataFrame(hn_clean)\n",
    "print(hn_df.head())"
   ]
  },
  {
   "cell_type": "code",
   "execution_count": 31,
   "metadata": {},
   "outputs": [
    {
     "name": "stdout",
     "output_type": "stream",
     "text": [
      "3    33459\n",
      "4     2347\n",
      "Name: tags, dtype: int64\n"
     ]
    }
   ],
   "source": [
    "# Check how many tags there are for each story\n",
    "tags = hn_df[\"tags\"]\n",
    "\n",
    "tags_types = tags.apply(len)\n",
    "type_counts = tags_types.value_counts(dropna=False)\n",
    "print(type_counts)"
   ]
  },
  {
   "cell_type": "code",
   "execution_count": 33,
   "metadata": {},
   "outputs": [
    {
     "name": "stdout",
     "output_type": "stream",
     "text": [
      "43     [story, author_alamgir_mand, story_7813869, sh...\n",
      "86       [story, author_cweagans, story_7812404, ask_hn]\n",
      "104    [story, author_nightstrike789, story_7812099, ...\n",
      "107    [story, author_ISeemToBeAVerb, story_7812048, ...\n",
      "109       [story, author_Swizec, story_7812018, show_hn]\n",
      "Name: tags, dtype: object\n"
     ]
    }
   ],
   "source": [
    "# Boolean mask to filter stories with 4 tags\n",
    "has_four_tags = tags.apply(len) == 4\n",
    "\n",
    "four_tags = tags[has_four_tags]\n",
    "print(four_tags.head())"
   ]
  },
  {
   "cell_type": "code",
   "execution_count": 40,
   "metadata": {},
   "outputs": [
    {
     "name": "stdout",
     "output_type": "stream",
     "text": [
      "           author  numComments  points  \\\n",
      "0  dragongraphics            0       2   \n",
      "1             jcr            0       1   \n",
      "2        callum85            0       1   \n",
      "3          d3v3r0            0       1   \n",
      "4      timmipetit            0       1   \n",
      "\n",
      "                                                 url storyText  \\\n",
      "0  http://ashleynolan.co.uk/blog/are-we-getting-t...             \n",
      "1  http://spectrum.ieee.org/automaton/robotics/ho...             \n",
      "2  http://online.wsj.com/articles/apple-to-buy-be...             \n",
      "3  http://alexsblog.org/2014/05/29/dont-wait-for-...             \n",
      "4  http://techcrunch.com/2014/05/28/hackerone-get...             \n",
      "\n",
      "              createdAt                                           tags  \\\n",
      "0  2014-05-29T08:07:50Z  [story, author_dragongraphics, story_7815238]   \n",
      "1  2014-05-29T08:05:58Z             [story, author_jcr, story_7815234]   \n",
      "2  2014-05-29T08:05:06Z        [story, author_callum85, story_7815230]   \n",
      "3  2014-05-29T08:00:08Z          [story, author_d3v3r0, story_7815222]   \n",
      "4  2014-05-29T07:46:19Z      [story, author_timmipetit, story_7815191]   \n",
      "\n",
      "                                               title objectId show_or_ask_hn  \n",
      "0  Are we getting too Sassy? Weighing up micro-op...  7815238           None  \n",
      "1  Telemba Turns Your Old Roomba and Tablet Into ...  7815234           None  \n",
      "2           Apple Agrees to Buy Beats for $3 Billion  7815230           None  \n",
      "3                         Don’t wait for inspiration  7815222           None  \n",
      "4  HackerOne Get $9M In Series A Funding To Build...  7815191           None  \n"
     ]
    }
   ],
   "source": [
    "# New column with show_hn or ask_hn (the optional 4th tag)\n",
    "fourth_tags = tags.apply(lambda l: l[-1] if len(l) == 4 else None)\n",
    "hn_df[\"show_or_ask_hn\"] = fourth_tags\n",
    "\n",
    "print(hn_df.head())"
   ]
  },
  {
   "cell_type": "code",
   "execution_count": null,
   "metadata": {},
   "outputs": [],
   "source": []
  }
 ],
 "metadata": {
  "kernelspec": {
   "display_name": "Python 3",
   "language": "python",
   "name": "python3"
  },
  "language_info": {
   "codemirror_mode": {
    "name": "ipython",
    "version": 3
   },
   "file_extension": ".py",
   "mimetype": "text/x-python",
   "name": "python",
   "nbconvert_exporter": "python",
   "pygments_lexer": "ipython3",
   "version": "3.7.6"
  }
 },
 "nbformat": 4,
 "nbformat_minor": 4
}
