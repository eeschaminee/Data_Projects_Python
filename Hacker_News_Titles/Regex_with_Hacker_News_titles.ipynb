{
 "cells": [
  {
   "cell_type": "markdown",
   "metadata": {},
   "source": [
    "<h1>Regex with Hacker News titles</h1>\n",
    "<h4>Capturing various languages mentioned in titles from Hacker News</h4>"
   ]
  },
  {
   "cell_type": "code",
   "execution_count": 1,
   "metadata": {},
   "outputs": [
    {
     "data": {
      "text/html": [
       "<div>\n",
       "<style scoped>\n",
       "    .dataframe tbody tr th:only-of-type {\n",
       "        vertical-align: middle;\n",
       "    }\n",
       "\n",
       "    .dataframe tbody tr th {\n",
       "        vertical-align: top;\n",
       "    }\n",
       "\n",
       "    .dataframe thead th {\n",
       "        text-align: right;\n",
       "    }\n",
       "</style>\n",
       "<table border=\"1\" class=\"dataframe\">\n",
       "  <thead>\n",
       "    <tr style=\"text-align: right;\">\n",
       "      <th></th>\n",
       "      <th>id</th>\n",
       "      <th>title</th>\n",
       "      <th>url</th>\n",
       "      <th>num_points</th>\n",
       "      <th>num_comments</th>\n",
       "      <th>author</th>\n",
       "      <th>created_at</th>\n",
       "    </tr>\n",
       "  </thead>\n",
       "  <tbody>\n",
       "    <tr>\n",
       "      <th>0</th>\n",
       "      <td>12224879</td>\n",
       "      <td>Interactive Dynamic Video</td>\n",
       "      <td>http://www.interactivedynamicvideo.com/</td>\n",
       "      <td>386</td>\n",
       "      <td>52</td>\n",
       "      <td>ne0phyte</td>\n",
       "      <td>8/4/2016 11:52</td>\n",
       "    </tr>\n",
       "    <tr>\n",
       "      <th>1</th>\n",
       "      <td>11964716</td>\n",
       "      <td>Florida DJs May Face Felony for April Fools' W...</td>\n",
       "      <td>http://www.thewire.com/entertainment/2013/04/f...</td>\n",
       "      <td>2</td>\n",
       "      <td>1</td>\n",
       "      <td>vezycash</td>\n",
       "      <td>6/23/2016 22:20</td>\n",
       "    </tr>\n",
       "    <tr>\n",
       "      <th>2</th>\n",
       "      <td>11919867</td>\n",
       "      <td>Technology ventures: From Idea to Enterprise</td>\n",
       "      <td>https://www.amazon.com/Technology-Ventures-Ent...</td>\n",
       "      <td>3</td>\n",
       "      <td>1</td>\n",
       "      <td>hswarna</td>\n",
       "      <td>6/17/2016 0:01</td>\n",
       "    </tr>\n",
       "    <tr>\n",
       "      <th>3</th>\n",
       "      <td>10301696</td>\n",
       "      <td>Note by Note: The Making of Steinway L1037 (2007)</td>\n",
       "      <td>http://www.nytimes.com/2007/11/07/movies/07ste...</td>\n",
       "      <td>8</td>\n",
       "      <td>2</td>\n",
       "      <td>walterbell</td>\n",
       "      <td>9/30/2015 4:12</td>\n",
       "    </tr>\n",
       "    <tr>\n",
       "      <th>4</th>\n",
       "      <td>10482257</td>\n",
       "      <td>Title II kills investment? Comcast and other I...</td>\n",
       "      <td>http://arstechnica.com/business/2015/10/comcas...</td>\n",
       "      <td>53</td>\n",
       "      <td>22</td>\n",
       "      <td>Deinos</td>\n",
       "      <td>10/31/2015 9:48</td>\n",
       "    </tr>\n",
       "  </tbody>\n",
       "</table>\n",
       "</div>"
      ],
      "text/plain": [
       "         id                                              title  \\\n",
       "0  12224879                          Interactive Dynamic Video   \n",
       "1  11964716  Florida DJs May Face Felony for April Fools' W...   \n",
       "2  11919867       Technology ventures: From Idea to Enterprise   \n",
       "3  10301696  Note by Note: The Making of Steinway L1037 (2007)   \n",
       "4  10482257  Title II kills investment? Comcast and other I...   \n",
       "\n",
       "                                                 url  num_points  \\\n",
       "0            http://www.interactivedynamicvideo.com/         386   \n",
       "1  http://www.thewire.com/entertainment/2013/04/f...           2   \n",
       "2  https://www.amazon.com/Technology-Ventures-Ent...           3   \n",
       "3  http://www.nytimes.com/2007/11/07/movies/07ste...           8   \n",
       "4  http://arstechnica.com/business/2015/10/comcas...          53   \n",
       "\n",
       "   num_comments      author       created_at  \n",
       "0            52    ne0phyte   8/4/2016 11:52  \n",
       "1             1    vezycash  6/23/2016 22:20  \n",
       "2             1     hswarna   6/17/2016 0:01  \n",
       "3             2  walterbell   9/30/2015 4:12  \n",
       "4            22      Deinos  10/31/2015 9:48  "
      ]
     },
     "execution_count": 1,
     "metadata": {},
     "output_type": "execute_result"
    }
   ],
   "source": [
    "#Dataset from https://www.kaggle.com/hacker-news/hacker-news-posts\n",
    "\n",
    "import pandas as pd\n",
    "import re\n",
    "\n",
    "hn = pd.read_csv(\"hacker_news.csv\")\n",
    "titles = hn[\"title\"]\n",
    "\n",
    "hn.head()"
   ]
  },
  {
   "cell_type": "markdown",
   "metadata": {},
   "source": [
    "<h4>Python</h4>"
   ]
  },
  {
   "cell_type": "code",
   "execution_count": 2,
   "metadata": {},
   "outputs": [
    {
     "name": "stdout",
     "output_type": "stream",
     "text": [
      "102                  From Python to Lua: Why We Switched\n",
      "103            Ubuntu 16.04 LTS to Ship Without Python 2\n",
      "144    Create a GUI Application Using Qt and Python i...\n",
      "196    How I Solved GCHQ's Xmas Card with Python and ...\n",
      "436    Unikernel Power Comes to Java, Node.js, Go, an...\n",
      "Name: title, dtype: object\n"
     ]
    }
   ],
   "source": [
    "#Collect all the titles that contain Python or python\n",
    "pattern = r\"python\"\n",
    "py_titles = titles[titles.str.contains(pattern, flags=re.I)]\n",
    "\n",
    "print(py_titles.head())"
   ]
  },
  {
   "cell_type": "code",
   "execution_count": 3,
   "metadata": {},
   "outputs": [
    {
     "name": "stdout",
     "output_type": "stream",
     "text": [
      "160\n"
     ]
    }
   ],
   "source": [
    "#Count all the titles that contain Python or python\n",
    "py_titles_counts = titles.str.contains(pattern, flags=re.I).sum()\n",
    "\n",
    "print(py_titles_counts)"
   ]
  },
  {
   "cell_type": "code",
   "execution_count": 4,
   "metadata": {},
   "outputs": [
    {
     "name": "stdout",
     "output_type": "stream",
     "text": [
      "{'3': 10, '3.5': 3, '2': 3, '3.6': 2, '8': 1, '1.5': 1, '3.5.0': 1, '2.7': 1, '4': 1}\n"
     ]
    }
   ],
   "source": [
    "#Capture groups to extract the version of Python that is mentioned\n",
    "pattern = r\"[Pp]ython ([\\d\\.]+)\"\n",
    "\n",
    "py_versions = titles.str.extract(pattern)\n",
    "\n",
    "#Create a dictionary frequancy table of the extracted Python versions\n",
    "py_versions_freq = dict(py_versions[0].value_counts())\n",
    "\n",
    "print(py_versions_freq)"
   ]
  },
  {
   "cell_type": "markdown",
   "metadata": {},
   "source": [
    "<h4>Java</h4>"
   ]
  },
  {
   "cell_type": "code",
   "execution_count": 5,
   "metadata": {},
   "outputs": [
    {
     "name": "stdout",
     "output_type": "stream",
     "text": [
      "436     Unikernel Power Comes to Java, Node.js, Go, an...\n",
      "811     Ask HN: Are there any projects or compilers wh...\n",
      "1023                         Pippo  Web framework in Java\n",
      "1972          Node.js vs. Java: Which Is Faster for APIs?\n",
      "2093                    Java EE and Microservices in 2016\n",
      "Name: title, dtype: object\n"
     ]
    }
   ],
   "source": [
    "#Collect all the titles that contain Java or java (but not JavaScript)\n",
    "pattern = r\"\\bjava\\b\"\n",
    "java_titles = titles[titles.str.contains(pattern, flags=re.I)]\n",
    "\n",
    "print(java_titles.head())"
   ]
  },
  {
   "cell_type": "markdown",
   "metadata": {},
   "source": [
    "<h4>SQL</h4>"
   ]
  },
  {
   "cell_type": "code",
   "execution_count": 6,
   "metadata": {},
   "outputs": [
    {
     "name": "stdout",
     "output_type": "stream",
     "text": [
      "108\n"
     ]
    }
   ],
   "source": [
    "#Count all variations on SQL (also Sql and sql)\n",
    "pattern = r\"sql\"\n",
    "sql_counts = titles.str.contains(pattern, flags=re.I).sum()\n",
    "print(sql_counts)"
   ]
  },
  {
   "cell_type": "code",
   "execution_count": 7,
   "metadata": {},
   "outputs": [
    {
     "name": "stdout",
     "output_type": "stream",
     "text": [
      "SQL    101\n",
      "Sql      4\n",
      "sql      3\n",
      "Name: 0, dtype: int64\n"
     ]
    }
   ],
   "source": [
    "#Collect all variations on SQL (also Sql and sql) and put them in a frequency table\n",
    "pattern = r\"(sql)\"\n",
    "sql_capitalizations = titles.str.extract(pattern, flags=re.I)\n",
    "sql_capitalizations_freq = sql_capitalizations[0].value_counts()\n",
    "print(sql_capitalizations_freq)"
   ]
  },
  {
   "cell_type": "code",
   "execution_count": 18,
   "metadata": {},
   "outputs": [
    {
     "name": "stdout",
     "output_type": "stream",
     "text": [
      "SQL    108\n",
      "Name: 0, dtype: int64\n"
     ]
    }
   ],
   "source": [
    "#Replace all variations on SQL (also Sql and sql) with SQL\n",
    "pattern = r\"(sql)\"\n",
    "\n",
    "titles_clean = titles.str.replace(pattern, \"SQL\", flags=re.I)\n",
    "\n",
    "#Check\n",
    "sql_titles = titles_clean.str.extract(pattern, flags=re.I)\n",
    "sql_freq = sql_titles[0].value_counts()\n",
    "print(sql_upper_freq)"
   ]
  },
  {
   "cell_type": "code",
   "execution_count": 19,
   "metadata": {},
   "outputs": [
    {
     "name": "stdout",
     "output_type": "stream",
     "text": [
      "PostgreSQL    27\n",
      "NoSQL         16\n",
      "MySQL         12\n",
      "mySQL          1\n",
      "noSQL          1\n",
      "SparkSQL       1\n",
      "MemSQL         1\n",
      "CloudSQL       1\n",
      "Name: 0, dtype: int64\n"
     ]
    }
   ],
   "source": [
    "#Extact all variations on SQL also PostgreSQL, mySQL etc\n",
    "pattern = r\"(\\w+SQL)\"\n",
    "sql_flavors = titles_clean.str.extract(pattern, flags=re.I)\n",
    "sql_flavors_freq = sql_flavors[0].value_counts()\n",
    "print(sql_flavors_freq)"
   ]
  },
  {
   "cell_type": "code",
   "execution_count": 27,
   "metadata": {},
   "outputs": [
    {
     "name": "stdout",
     "output_type": "stream",
     "text": [
      "            num_comments\n",
      "flavor                  \n",
      "cloudsql        5.000000\n",
      "memsql         14.000000\n",
      "mysql          12.230769\n",
      "nosql          14.529412\n",
      "postgresql     25.962963\n",
      "sparksql        1.000000\n"
     ]
    }
   ],
   "source": [
    "#Extact all mentions of SQL into a new column, make them all lowercase (to avoid duplicates)\n",
    "hn_sql = hn[titles_clean.str.contains(r\"\\w+SQL\", flags=re.I)].copy()\n",
    "\n",
    "hn_sql[\"flavor\"] = hn_sql[\"title\"].str.extract(r\"(\\w+SQL)\", flags=re.I)\n",
    "hn_sql[\"flavor\"] = hn_sql[\"flavor\"].str.lower()\n",
    "\n",
    "#Average number of comments for each flavor\n",
    "sql_pivot = hn_sql.pivot_table(index=\"flavor\", values=\"num_comments\")\n",
    "print(sql_pivot)"
   ]
  },
  {
   "cell_type": "markdown",
   "metadata": {},
   "source": [
    "<h4>C</h4>"
   ]
  },
  {
   "cell_type": "code",
   "execution_count": 11,
   "metadata": {},
   "outputs": [
    {
     "name": "stdout",
     "output_type": "stream",
     "text": [
      "221                  MemSQL (YC W11) Raises $36M Series C\n",
      "365                      The new C standards are worth it\n",
      "444           Moz raises $10m Series C from Foundry Group\n",
      "521          Fuchsia: Micro kernel written in C by Google\n",
      "1307            Show HN: Yupp, yet another C preprocessor\n",
      "1326                     The C standard formalized in Coq\n",
      "1365                          GNU C Library 2.23 released\n",
      "1429    Cysignals: signal handling (SIGINT, SIGSEGV, )...\n",
      "1620                        SDCC  Small Device C Compiler\n",
      "1949    Rewriting a Ruby C Extension in Rust: How a Na...\n",
      "Name: title, dtype: object\n"
     ]
    }
   ],
   "source": [
    "#Pattern for C that won't include C++ or C.E.O\n",
    "pattern = r\"\\b[Cc]\\b(?![\\+\\.])\"\n",
    "\n",
    "#Collect all the titles that contain C\n",
    "c_titles = titles[titles.str.contains(pattern)]\n",
    "\n",
    "print(c_titles.head(10))"
   ]
  },
  {
   "cell_type": "code",
   "execution_count": 12,
   "metadata": {},
   "outputs": [
    {
     "name": "stdout",
     "output_type": "stream",
     "text": [
      "105\n"
     ]
    }
   ],
   "source": [
    "c_titles_count = titles.str.contains(pattern).sum()\n",
    "print(c_titles_count)"
   ]
  },
  {
   "cell_type": "code",
   "execution_count": 13,
   "metadata": {},
   "outputs": [
    {
     "name": "stdout",
     "output_type": "stream",
     "text": [
      "365                      The new C standards are worth it\n",
      "521          Fuchsia: Micro kernel written in C by Google\n",
      "1307            Show HN: Yupp, yet another C preprocessor\n",
      "1326                     The C standard formalized in Coq\n",
      "1365                          GNU C Library 2.23 released\n",
      "1429    Cysignals: signal handling (SIGINT, SIGSEGV, )...\n",
      "1620                        SDCC  Small Device C Compiler\n",
      "1949    Rewriting a Ruby C Extension in Rust: How a Na...\n",
      "2195    MyHTML  HTML Parser on Pure C with POSIX Threa...\n",
      "2589    Phalcon  PHP framework delivered as a C extension\n",
      "Name: title, dtype: object\n"
     ]
    }
   ],
   "source": [
    "#Also exclude patterns that have the word 'Series'\n",
    "pattern = r\"(?<!Series\\s)\\b[Cc]\\b(?![\\+\\.])\"\n",
    "\n",
    "#Collect all the titles that contain C\n",
    "c_titles = titles[titles.str.contains(pattern)]\n",
    "\n",
    "print(c_titles.head(10))"
   ]
  },
  {
   "cell_type": "code",
   "execution_count": 14,
   "metadata": {},
   "outputs": [
    {
     "name": "stdout",
     "output_type": "stream",
     "text": [
      "102\n"
     ]
    }
   ],
   "source": [
    "c_titles_count = titles.str.contains(pattern).sum()\n",
    "print(c_titles_count)"
   ]
  },
  {
   "cell_type": "markdown",
   "metadata": {},
   "source": [
    "<h4>Capturing Domains</h4>"
   ]
  },
  {
   "cell_type": "code",
   "execution_count": 38,
   "metadata": {
    "scrolled": true
   },
   "outputs": [
    {
     "name": "stdout",
     "output_type": "stream",
     "text": [
      "github.com             1008\n",
      "medium.com              825\n",
      "www.nytimes.com         525\n",
      "www.theguardian.com     248\n",
      "techcrunch.com          245\n",
      "Name: 0, dtype: int64\n"
     ]
    }
   ],
   "source": [
    "#Collect all domains\n",
    "pattern = r\"\\w+://([\\w\\-\\.]+)\"\n",
    "\n",
    "domains = hn[\"url\"].str.extract(pattern, flags=re.I)\n",
    "domains = domains[0].value_counts()\n",
    "\n",
    "print(domains.head())"
   ]
  },
  {
   "cell_type": "code",
   "execution_count": 39,
   "metadata": {},
   "outputs": [
    {
     "name": "stdout",
     "output_type": "stream",
     "text": [
      "  protocol                           domain  \\\n",
      "0     http  www.interactivedynamicvideo.com   \n",
      "1     http                  www.thewire.com   \n",
      "2    https                   www.amazon.com   \n",
      "3     http                  www.nytimes.com   \n",
      "4     http                  arstechnica.com   \n",
      "\n",
      "                                                path  \n",
      "0                                                     \n",
      "1  entertainment/2013/04/florida-djs-april-fools-...  \n",
      "2  Technology-Ventures-Enterprise-Thomas-Byers/dp...  \n",
      "3                2007/11/07/movies/07stein.html?_r=0  \n",
      "4  business/2015/10/comcast-and-other-isps-boost-...  \n"
     ]
    }
   ],
   "source": [
    "#Split different URL parts\n",
    "#0: protocol, 1: domain, 2: page path\n",
    "pattern = r\"(?P<protocol>https?)://(?P<domain>[\\w\\.\\-]+)/?(?P<path>.*)\"\n",
    "\n",
    "url_parts = hn[\"url\"].str.extract(pattern, flags=re.I)\n",
    "\n",
    "print(url_parts.head())"
   ]
  },
  {
   "cell_type": "code",
   "execution_count": null,
   "metadata": {},
   "outputs": [],
   "source": []
  }
 ],
 "metadata": {
  "kernelspec": {
   "display_name": "Python 3",
   "language": "python",
   "name": "python3"
  },
  "language_info": {
   "codemirror_mode": {
    "name": "ipython",
    "version": 3
   },
   "file_extension": ".py",
   "mimetype": "text/x-python",
   "name": "python",
   "nbconvert_exporter": "python",
   "pygments_lexer": "ipython3",
   "version": "3.7.6"
  }
 },
 "nbformat": 4,
 "nbformat_minor": 4
}
