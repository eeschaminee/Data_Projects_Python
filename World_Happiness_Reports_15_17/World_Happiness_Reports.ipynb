{
 "cells": [
  {
   "cell_type": "markdown",
   "metadata": {},
   "source": [
    "<h2>World Happiness Reports 2015-2017</h2>\n",
    "\n",
    "<h4>Data Cleaning with pandas (missing and duplicate values)</h4>"
   ]
  },
  {
   "cell_type": "code",
   "execution_count": 1,
   "metadata": {},
   "outputs": [
    {
     "name": "stdout",
     "output_type": "stream",
     "text": [
      "(164, 13) (164, 14) (164, 13)\n"
     ]
    }
   ],
   "source": [
    "#using dataset from Kaggle: https://www.kaggle.com/unsdsn/world-happiness#2015.csv\n",
    "\n",
    "import pandas as pd\n",
    "import numpy as np\n",
    "import seaborn as sns\n",
    "\n",
    "happiness2015 = pd.read_csv(\"wh_2015.csv\")\n",
    "happiness2016 = pd.read_csv(\"wh_2016.csv\")\n",
    "happiness2017 = pd.read_csv(\"wh_2017.csv\")\n",
    "\n",
    "shape_2015 = happiness2015.shape\n",
    "shape_2016 = happiness2016.shape \n",
    "shape_2017 = happiness2017.shape\n",
    "\n",
    "print(shape_2015, shape_2016, shape_2017)"
   ]
  },
  {
   "cell_type": "code",
   "execution_count": 2,
   "metadata": {},
   "outputs": [
    {
     "name": "stdout",
     "output_type": "stream",
     "text": [
      "Country                          0\n",
      "Region                           6\n",
      "Happiness Rank                   6\n",
      "Happiness Score                  6\n",
      "Standard Error                   6\n",
      "Economy (GDP per Capita)         6\n",
      "Family                           6\n",
      "Health (Life Expectancy)         6\n",
      "Freedom                          6\n",
      "Trust (Government Corruption)    6\n",
      "Generosity                       6\n",
      "Dystopia Residual                6\n",
      "Year                             0\n",
      "dtype: int64\n",
      "Country                          0\n",
      "Region                           7\n",
      "Happiness Rank                   7\n",
      "Happiness Score                  7\n",
      "Lower Confidence Interval        7\n",
      "Upper Confidence Interval        7\n",
      "Economy (GDP per Capita)         7\n",
      "Family                           7\n",
      "Health (Life Expectancy)         7\n",
      "Freedom                          7\n",
      "Trust (Government Corruption)    7\n",
      "Generosity                       7\n",
      "Dystopia Residual                7\n",
      "Year                             0\n",
      "dtype: int64\n",
      "Country                          0\n",
      "Happiness.Rank                   9\n",
      "Happiness.Score                  9\n",
      "Whisker.high                     9\n",
      "Whisker.low                      9\n",
      "Economy..GDP.per.Capita.         9\n",
      "Family                           9\n",
      "Health..Life.Expectancy.         9\n",
      "Freedom                          9\n",
      "Generosity                       9\n",
      "Trust..Government.Corruption.    9\n",
      "Dystopia.Residual                9\n",
      "Year                             0\n",
      "dtype: int64\n"
     ]
    }
   ],
   "source": [
    "missing_2015 = happiness2015.isnull().sum()\n",
    "missing_2016 = happiness2016.isnull().sum()\n",
    "missing_2017 = happiness2017.isnull().sum()\n",
    "\n",
    "print(missing_2015)\n",
    "print(missing_2016)\n",
    "print(missing_2017)\n",
    "\n",
    "#The result is a series in which:\n",
    "#- The index contains the names of the columns in happiness2015/happiness2016/happiness2017.\n",
    "#- The corresponding value is the number of null values in each column."
   ]
  },
  {
   "cell_type": "code",
   "execution_count": 3,
   "metadata": {},
   "outputs": [
    {
     "name": "stdout",
     "output_type": "stream",
     "text": [
      "COUNTRY                          0\n",
      "REGION                         177\n",
      "HAPPINESS RANK                  22\n",
      "HAPPINESS SCORE                 22\n",
      "STANDARD ERROR                 334\n",
      "ECONOMY GDP PER CAPITA          22\n",
      "FAMILY                          22\n",
      "HEALTH LIFE EXPECTANCY          22\n",
      "FREEDOM                         22\n",
      "TRUST GOVERNMENT CORRUPTION     22\n",
      "GENEROSITY                      22\n",
      "DYSTOPIA RESIDUAL               22\n",
      "YEAR                             0\n",
      "LOWER CONFIDENCE INTERVAL      335\n",
      "UPPER CONFIDENCE INTERVAL      335\n",
      "WHISKER HIGH                   337\n",
      "WHISKER LOW                    337\n",
      "dtype: int64\n"
     ]
    }
   ],
   "source": [
    "#previous cell shows that the names differ, so fix column names\n",
    "happiness2015.columns = happiness2015.columns.str.replace('(', '').str.replace(')', '').str.strip().str.upper()\n",
    "happiness2016.columns = happiness2016.columns.str.replace('(', '').str.replace(')', '').str.strip().str.upper()\n",
    "happiness2017.columns = happiness2017.columns.str.replace('.', ' ').str.replace('\\s+', ' ').str.strip().str.upper()\n",
    "\n",
    "combined = pd.concat([happiness2015, happiness2016, happiness2017], ignore_index=True)\n",
    "\n",
    "missing = combined.isnull().sum()\n",
    "print(missing)"
   ]
  },
  {
   "cell_type": "code",
   "execution_count": 4,
   "metadata": {},
   "outputs": [
    {
     "data": {
      "text/plain": [
       "<matplotlib.axes._subplots.AxesSubplot at 0x1cd325be548>"
      ]
     },
     "execution_count": 4,
     "metadata": {},
     "output_type": "execute_result"
    },
    {
     "data": {
      "image/png": "[encoded data removed]",
      "text/plain": [
       "<Figure size 432x288 with 1 Axes>"
      ]
     },
     "metadata": {
      "needs_background": "light"
     },
     "output_type": "display_data"
    }
   ],
   "source": [
    "#create a heatmap to see where the missing values are\n",
    "combined_updated = combined.set_index('YEAR')\n",
    "sns.heatmap(combined_updated.isnull(), cbar=False)\n",
    "\n",
    "#conclusion: COUNTRY seems to be the only column without missing values, REGION has missing value in 2017"
   ]
  },
  {
   "cell_type": "code",
   "execution_count": 5,
   "metadata": {},
   "outputs": [
    {
     "name": "stdout",
     "output_type": "stream",
     "text": [
      "164\n"
     ]
    }
   ],
   "source": [
    "#Confirm that the REGION column is missing from the 2017 data\n",
    "regions_2017 = combined[combined[\"YEAR\"] == 2017][\"REGION\"]\n",
    "\n",
    "missing = regions_2017.isnull().sum()\n",
    "print(missing)"
   ]
  },
  {
   "cell_type": "code",
   "execution_count": 6,
   "metadata": {},
   "outputs": [
    {
     "name": "stdout",
     "output_type": "stream",
     "text": [
      "               COUNTRY                       REGION\n",
      "0          Switzerland               Western Europe\n",
      "1              Iceland               Western Europe\n",
      "2              Denmark               Western Europe\n",
      "3               Norway               Western Europe\n",
      "4               Canada                North America\n",
      "..                 ...                          ...\n",
      "209             Belize  Latin America and Caribbean\n",
      "233            Somalia           Sub-Saharan Africa\n",
      "254  Somaliland Region           Sub-Saharan Africa\n",
      "270            Namibia           Sub-Saharan Africa\n",
      "300        South Sudan           Sub-Saharan Africa\n",
      "\n",
      "[164 rows x 2 columns]\n"
     ]
    }
   ],
   "source": [
    "#Dataframe with all the Countries and Regions according to happiness2015 and happiness\n",
    "regions_15 = happiness2015.loc[:, [\"COUNTRY\", \"REGION\"]]\n",
    "regions_16 = happiness2016.loc[:, [\"COUNTRY\", \"REGION\"]]\n",
    "\n",
    "regions_15.dropna(inplace=True)\n",
    "regions_16.dropna(inplace=True)\n",
    "\n",
    "total_regions = pd.concat([regions_15, regions_16], ignore_index=True)\n",
    "total_regions = total_regions.drop_duplicates(subset = \"COUNTRY\")\n",
    "\n",
    "print(total_regions)"
   ]
  },
  {
   "cell_type": "code",
   "execution_count": 7,
   "metadata": {},
   "outputs": [
    {
     "name": "stdout",
     "output_type": "stream",
     "text": [
      "COUNTRY                          0\n",
      "HAPPINESS RANK                  22\n",
      "HAPPINESS SCORE                 22\n",
      "STANDARD ERROR                 334\n",
      "ECONOMY GDP PER CAPITA          22\n",
      "FAMILY                          22\n",
      "HEALTH LIFE EXPECTANCY          22\n",
      "FREEDOM                         22\n",
      "TRUST GOVERNMENT CORRUPTION     22\n",
      "GENEROSITY                      22\n",
      "DYSTOPIA RESIDUAL               22\n",
      "YEAR                             0\n",
      "LOWER CONFIDENCE INTERVAL      335\n",
      "UPPER CONFIDENCE INTERVAL      335\n",
      "WHISKER HIGH                   337\n",
      "WHISKER LOW                    337\n",
      "REGION                           0\n",
      "dtype: int64\n"
     ]
    }
   ],
   "source": [
    "#Assign the REGION in the regions dataframe to the corresponding country in combined\n",
    "combined = pd.merge(left=combined, right=total_regions, on=\"COUNTRY\", how=\"left\")\n",
    "\n",
    "#Drop the original region column with missing values, now named REGION_x\n",
    "combined = combined.drop(\"REGION_x\", axis = 1)\n",
    "combined = combined.rename(columns={\"REGION_y\": \"REGION\"})\n",
    "\n",
    "#Check for missing values\n",
    "missing = combined.isnull().sum()\n",
    "\n",
    "print(missing)"
   ]
  },
  {
   "cell_type": "code",
   "execution_count": 8,
   "metadata": {},
   "outputs": [
    {
     "name": "stdout",
     "output_type": "stream",
     "text": [
      "               COUNTRY  HAPPINESS RANK  HAPPINESS SCORE  STANDARD ERROR  \\\n",
      "162  SOMALILAND REGION             NaN              NaN             NaN   \n",
      "326  SOMALILAND REGION             NaN              NaN             NaN   \n",
      "489  SOMALILAND REGION             NaN              NaN             NaN   \n",
      "\n",
      "     ECONOMY GDP PER CAPITA  FAMILY  HEALTH LIFE EXPECTANCY  FREEDOM  \\\n",
      "162                     NaN     NaN                     NaN      NaN   \n",
      "326                     NaN     NaN                     NaN      NaN   \n",
      "489                     NaN     NaN                     NaN      NaN   \n",
      "\n",
      "     TRUST GOVERNMENT CORRUPTION  GENEROSITY  DYSTOPIA RESIDUAL  YEAR  \\\n",
      "162                          NaN         NaN                NaN  2015   \n",
      "326                          NaN         NaN                NaN  2016   \n",
      "489                          NaN         NaN                NaN  2017   \n",
      "\n",
      "     LOWER CONFIDENCE INTERVAL  UPPER CONFIDENCE INTERVAL  WHISKER HIGH  \\\n",
      "162                        NaN                        NaN           NaN   \n",
      "326                        NaN                        NaN           NaN   \n",
      "489                        NaN                        NaN           NaN   \n",
      "\n",
      "     WHISKER LOW              REGION  \n",
      "162          NaN  Sub-Saharan Africa  \n",
      "326          NaN  Sub-Saharan Africa  \n",
      "489          NaN  Sub-Saharan Africa  \n"
     ]
    }
   ],
   "source": [
    "#Check for dublicate countries within each year (uppercase first to standardize the capitalization)\n",
    "combined[\"COUNTRY\"] = combined[\"COUNTRY\"].str.upper()\n",
    "dups = combined.duplicated([\"COUNTRY\", \"YEAR\"])\n",
    "\n",
    "print(combined[dups])"
   ]
  },
  {
   "cell_type": "code",
   "execution_count": 9,
   "metadata": {},
   "outputs": [
    {
     "name": "stdout",
     "output_type": "stream",
     "text": [
      "               COUNTRY  HAPPINESS RANK  HAPPINESS SCORE  STANDARD ERROR  \\\n",
      "90   SOMALILAND REGION            91.0            5.057         0.06161   \n",
      "162  SOMALILAND REGION             NaN              NaN             NaN   \n",
      "260  SOMALILAND REGION            97.0            5.057             NaN   \n",
      "326  SOMALILAND REGION             NaN              NaN             NaN   \n",
      "488  SOMALILAND REGION             NaN              NaN             NaN   \n",
      "489  SOMALILAND REGION             NaN              NaN             NaN   \n",
      "\n",
      "     ECONOMY GDP PER CAPITA   FAMILY  HEALTH LIFE EXPECTANCY  FREEDOM  \\\n",
      "90                  0.18847  0.95152                 0.43873  0.46582   \n",
      "162                     NaN      NaN                     NaN      NaN   \n",
      "260                 0.25558  0.75862                 0.33108  0.39130   \n",
      "326                     NaN      NaN                     NaN      NaN   \n",
      "488                     NaN      NaN                     NaN      NaN   \n",
      "489                     NaN      NaN                     NaN      NaN   \n",
      "\n",
      "     TRUST GOVERNMENT CORRUPTION  GENEROSITY  DYSTOPIA RESIDUAL  YEAR  \\\n",
      "90                       0.39928     0.50318            2.11032  2015   \n",
      "162                          NaN         NaN                NaN  2015   \n",
      "260                      0.36794     0.51479            2.43801  2016   \n",
      "326                          NaN         NaN                NaN  2016   \n",
      "488                          NaN         NaN                NaN  2017   \n",
      "489                          NaN         NaN                NaN  2017   \n",
      "\n",
      "     LOWER CONFIDENCE INTERVAL  UPPER CONFIDENCE INTERVAL  WHISKER HIGH  \\\n",
      "90                         NaN                        NaN           NaN   \n",
      "162                        NaN                        NaN           NaN   \n",
      "260                      4.934                       5.18           NaN   \n",
      "326                        NaN                        NaN           NaN   \n",
      "488                        NaN                        NaN           NaN   \n",
      "489                        NaN                        NaN           NaN   \n",
      "\n",
      "     WHISKER LOW              REGION  \n",
      "90           NaN  Sub-Saharan Africa  \n",
      "162          NaN  Sub-Saharan Africa  \n",
      "260          NaN  Sub-Saharan Africa  \n",
      "326          NaN  Sub-Saharan Africa  \n",
      "488          NaN  Sub-Saharan Africa  \n",
      "489          NaN  Sub-Saharan Africa  \n"
     ]
    }
   ],
   "source": [
    "#Inspect duplicates\n",
    "print(combined[combined['COUNTRY'] == 'SOMALILAND REGION'])"
   ]
  },
  {
   "cell_type": "code",
   "execution_count": 10,
   "metadata": {},
   "outputs": [
    {
     "name": "stdout",
     "output_type": "stream",
     "text": [
      "Empty DataFrame\n",
      "Columns: [COUNTRY, HAPPINESS RANK, HAPPINESS SCORE, STANDARD ERROR, ECONOMY GDP PER CAPITA, FAMILY, HEALTH LIFE EXPECTANCY, FREEDOM, TRUST GOVERNMENT CORRUPTION, GENEROSITY, DYSTOPIA RESIDUAL, YEAR, LOWER CONFIDENCE INTERVAL, UPPER CONFIDENCE INTERVAL, WHISKER HIGH, WHISKER LOW, REGION]\n",
      "Index: []\n"
     ]
    }
   ],
   "source": [
    "#Drop the duplicate rows\n",
    "combined = combined.drop_duplicates([\"COUNTRY\", \"YEAR\"])\n",
    "\n",
    "#Check if they are dropped\n",
    "dups = combined.duplicated([\"COUNTRY\", \"YEAR\"])\n",
    "print(combined[dups])"
   ]
  },
  {
   "cell_type": "code",
   "execution_count": 11,
   "metadata": {},
   "outputs": [
    {
     "name": "stdout",
     "output_type": "stream",
     "text": [
      "COUNTRY                          0\n",
      "HAPPINESS RANK                  19\n",
      "HAPPINESS SCORE                 19\n",
      "STANDARD ERROR                 331\n",
      "ECONOMY GDP PER CAPITA          19\n",
      "FAMILY                          19\n",
      "HEALTH LIFE EXPECTANCY          19\n",
      "FREEDOM                         19\n",
      "TRUST GOVERNMENT CORRUPTION     19\n",
      "GENEROSITY                      19\n",
      "DYSTOPIA RESIDUAL               19\n",
      "YEAR                             0\n",
      "LOWER CONFIDENCE INTERVAL      332\n",
      "UPPER CONFIDENCE INTERVAL      332\n",
      "WHISKER HIGH                   334\n",
      "WHISKER LOW                    334\n",
      "REGION                           0\n",
      "dtype: int64\n"
     ]
    }
   ],
   "source": [
    "missing = combined.isnull().sum()\n",
    "print(missing)"
   ]
  },
  {
   "cell_type": "code",
   "execution_count": 12,
   "metadata": {},
   "outputs": [
    {
     "name": "stdout",
     "output_type": "stream",
     "text": [
      "COUNTRY                         0\n",
      "HAPPINESS RANK                 19\n",
      "HAPPINESS SCORE                19\n",
      "ECONOMY GDP PER CAPITA         19\n",
      "FAMILY                         19\n",
      "HEALTH LIFE EXPECTANCY         19\n",
      "FREEDOM                        19\n",
      "TRUST GOVERNMENT CORRUPTION    19\n",
      "GENEROSITY                     19\n",
      "DYSTOPIA RESIDUAL              19\n",
      "YEAR                            0\n",
      "REGION                          0\n",
      "dtype: int64\n"
     ]
    }
   ],
   "source": [
    "#Drop columns with more than 300 missing values (make up more than half of the total values)\n",
    "columns_to_drop = [\"LOWER CONFIDENCE INTERVAL\", \"STANDARD ERROR\", \"UPPER CONFIDENCE INTERVAL\", \"WHISKER HIGH\", \"WHISKER LOW\"]\n",
    "\n",
    "combined = combined.drop(columns_to_drop, axis=1)\n",
    "missing = combined.isnull().sum()\n",
    "print(missing)"
   ]
  },
  {
   "cell_type": "code",
   "execution_count": 13,
   "metadata": {},
   "outputs": [
    {
     "data": {
      "text/plain": [
       "<matplotlib.axes._subplots.AxesSubplot at 0x1cd37723ac8>"
      ]
     },
     "execution_count": 13,
     "metadata": {},
     "output_type": "execute_result"
    },
    {
     "data": {
      "image/png": "[encoded data removed]",
      "text/plain": [
       "<Figure size 432x288 with 1 Axes>"
      ]
     },
     "metadata": {
      "needs_background": "light"
     },
     "output_type": "display_data"
    }
   ],
   "source": [
    "#Will dropping missing values cause us to lose valuable information in other columns?\n",
    "\n",
    "sorted = combined.set_index(\"REGION\").sort_values([\"REGION\", \"HAPPINESS SCORE\"])\n",
    "sns.heatmap(sorted.isnull(), cbar=False)\n",
    "\n",
    "#Only three regions contain missing values: Sub-Saharan Africa, Middle East and Northern Africa, Latin America and Carribbean"
   ]
  },
  {
   "cell_type": "code",
   "execution_count": 14,
   "metadata": {},
   "outputs": [
    {
     "name": "stdout",
     "output_type": "stream",
     "text": [
      "                                 HAPPINESS SCORE\n",
      "REGION                                          \n",
      "Australia and New Zealand               7.302500\n",
      "Central and Eastern Europe              5.371184\n",
      "Eastern Asia                            5.632333\n",
      "Latin America and Caribbean             6.069074\n",
      "Middle East and Northern Africa         5.387879\n",
      "North America                           7.227167\n",
      "Southeastern Asia                       5.364077\n",
      "Southern Asia                           4.590857\n",
      "Sub-Saharan Africa                      4.150957\n",
      "Western Europe                          6.693000\n",
      "All                                     5.370728\n",
      "                                 HAPPINESS SCORE UPDATED\n",
      "REGION                                                  \n",
      "Australia and New Zealand                       7.302500\n",
      "Central and Eastern Europe                      5.371184\n",
      "Eastern Asia                                    5.632333\n",
      "Latin America and Caribbean                     6.030277\n",
      "Middle East and Northern Africa                 5.387308\n",
      "North America                                   7.227167\n",
      "Southeastern Asia                               5.364323\n",
      "Southern Asia                                   4.590857\n",
      "Sub-Saharan Africa                              4.264424\n",
      "Western Europe                                  6.693000\n",
      "All                                             5.370728\n"
     ]
    }
   ],
   "source": [
    "#Happiness Score per region with NaN values\n",
    "pv_missing = combined.pivot_table(index=\"REGION\", values=\"HAPPINESS SCORE\", margins=True)\n",
    "print(pv_missing)\n",
    "\n",
    "#Happiness Score per region with values with mean\n",
    "happiness_mean = combined[\"HAPPINESS SCORE\"].mean()\n",
    "\n",
    "combined[\"HAPPINESS SCORE UPDATED\"] = combined[\"HAPPINESS SCORE\"].fillna(happiness_mean)\n",
    "pv_mean = combined.pivot_table(index=\"REGION\", values=\"HAPPINESS SCORE UPDATED\", margins=True)\n",
    "print(pv_mean)"
   ]
  },
  {
   "cell_type": "code",
   "execution_count": 15,
   "metadata": {},
   "outputs": [
    {
     "name": "stdout",
     "output_type": "stream",
     "text": [
      "COUNTRY                        0\n",
      "HAPPINESS RANK                 0\n",
      "HAPPINESS SCORE                0\n",
      "ECONOMY GDP PER CAPITA         0\n",
      "FAMILY                         0\n",
      "HEALTH LIFE EXPECTANCY         0\n",
      "FREEDOM                        0\n",
      "TRUST GOVERNMENT CORRUPTION    0\n",
      "GENEROSITY                     0\n",
      "DYSTOPIA RESIDUAL              0\n",
      "YEAR                           0\n",
      "REGION                         0\n",
      "HAPPINESS SCORE UPDATED        0\n",
      "dtype: int64\n"
     ]
    }
   ],
   "source": [
    "#Because the Happiness Score from the three regions are increased because some values got replaced with the mean\n",
    "#I think it is better to just not use those rows\n",
    "combined = combined.dropna()\n",
    "missing = combined.isnull().sum()\n",
    "\n",
    "print(missing)"
   ]
  },
  {
   "cell_type": "code",
   "execution_count": null,
   "metadata": {},
   "outputs": [],
   "source": []
  }
 ],
 "metadata": {
  "kernelspec": {
   "display_name": "Python 3",
   "language": "python",
   "name": "python3"
  },
  "language_info": {
   "codemirror_mode": {
    "name": "ipython",
    "version": 3
   },
   "file_extension": ".py",
   "mimetype": "text/x-python",
   "name": "python",
   "nbconvert_exporter": "python",
   "pygments_lexer": "ipython3",
   "version": "3.7.6"
  }
 },
 "nbformat": 4,
 "nbformat_minor": 4
}
